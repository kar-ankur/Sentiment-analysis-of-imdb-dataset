{
 "cells": [
  {
   "cell_type": "markdown",
   "metadata": {},
   "source": [
    "This is a simple NLP project which predicts the sentiment of the movie reviews from IMDB dataset."
   ]
  },
  {
   "cell_type": "code",
   "execution_count": 1,
   "metadata": {},
   "outputs": [],
   "source": [
    "import numpy as np\n",
    "import pandas as pd\n",
    "import os\n",
    "import glob\n",
    "import csv\n",
    "import random\n"
   ]
  },
  {
   "cell_type": "markdown",
   "metadata": {},
   "source": [
    "Gathering the Datasets and converting them to a single csv file"
   ]
  },
  {
   "cell_type": "code",
   "execution_count": 2,
   "metadata": {},
   "outputs": [],
   "source": [
    "# Since all the reviews and sentiments are in txt file I have used this function to combine them and put them in an array\n",
    "def txt_tocsv(path_of_files, arr, dir_list):\n",
    "    for filename in dir_list:\n",
    "        fpath = os.path.join(path_of_files, filename)\n",
    "        with open(fpath, 'r', encoding=\"utf8\") as file:\n",
    "            arr.append(file.read())\n"
   ]
  },
  {
   "cell_type": "code",
   "execution_count": 3,
   "metadata": {},
   "outputs": [],
   "source": [
    "# Converting the combined text file dataset to a dataframe using pandas\n",
    "def arr_todf(dic, arr, data_f, rating):\n",
    "    dic = {\"review\": arr,\n",
    "           \"rating\": [rating]*len(arr)}\n",
    "    data_f = pd.DataFrame(dic)\n",
    "    print(data_f.head())\n",
    "    return(data_f)\n"
   ]
  },
  {
   "cell_type": "markdown",
   "metadata": {},
   "source": [
    "Converting the Positive training dataset to a csv file"
   ]
  },
  {
   "cell_type": "code",
   "execution_count": 4,
   "metadata": {},
   "outputs": [],
   "source": [
    "pos_arr = []\n",
    "path = r\"datasets\\train_pos.csv\"\n",
    "dir_list_pos = os.listdir(path)\n",
    "txt_tocsv(path, pos_arr, dir_list_pos)\n"
   ]
  },
  {
   "cell_type": "code",
   "execution_count": 5,
   "metadata": {},
   "outputs": [
    {
     "name": "stdout",
     "output_type": "stream",
     "text": [
      "                                              review  rating\n",
      "0  Bromwell High is a cartoon comedy. It ran at t...       1\n",
      "1  Homelessness (or Houselessness as George Carli...       1\n",
      "2  Brilliant over-acting by Lesley Ann Warren. Be...       1\n",
      "3  This is easily the most underrated film inn th...       1\n",
      "4  This is not the typical Mel Brooks film. It wa...       1\n"
     ]
    }
   ],
   "source": [
    "pos_dic = {}\n",
    "pos_df = pd.DataFrame()\n",
    "pos_df = arr_todf(pos_dic, pos_arr, pos_df, 1)\n"
   ]
  },
  {
   "cell_type": "code",
   "execution_count": 6,
   "metadata": {},
   "outputs": [],
   "source": [
    "pos_df.to_csv(\"train_pos.csv\", index=False)\n"
   ]
  },
  {
   "cell_type": "markdown",
   "metadata": {},
   "source": [
    "Converting the negative training datasets to csv files"
   ]
  },
  {
   "cell_type": "code",
   "execution_count": 7,
   "metadata": {},
   "outputs": [],
   "source": [
    "neg_arr = []\n",
    "path = r\"datasets\\train_neg.csv\"\n",
    "dir_list_neg = os.listdir(path)\n",
    "txt_tocsv(path, neg_arr, dir_list_neg)\n"
   ]
  },
  {
   "cell_type": "code",
   "execution_count": 8,
   "metadata": {},
   "outputs": [
    {
     "name": "stdout",
     "output_type": "stream",
     "text": [
      "                                              review  rating\n",
      "0  Story of a man who has unnatural feelings for ...       0\n",
      "1  Airport '77 starts as a brand new luxury 747 p...       0\n",
      "2  This film lacked something I couldn't put my f...       0\n",
      "3  Sorry everyone,,, I know this is supposed to b...       0\n",
      "4  When I was little my parents took me along to ...       0\n"
     ]
    }
   ],
   "source": [
    "neg_dic = {}\n",
    "neg_df = pd.DataFrame()\n",
    "neg_df = arr_todf(neg_dic, neg_arr, neg_df, 0)\n"
   ]
  },
  {
   "cell_type": "code",
   "execution_count": 9,
   "metadata": {},
   "outputs": [],
   "source": [
    "neg_df.to_csv(\"train_neg.csv\", index=False)\n"
   ]
  },
  {
   "cell_type": "markdown",
   "metadata": {},
   "source": [
    "Merging both the training dataset"
   ]
  },
  {
   "cell_type": "code",
   "execution_count": 10,
   "metadata": {},
   "outputs": [],
   "source": [
    "pos_rev = pd.read_csv(\"train_pos.csv\")\n",
    "neg_rev = pd.read_csv(\"train_neg.csv\")\n",
    "\n",
    "training_data = pd.concat([pos_rev, neg_rev])\n",
    "training_df = pd.DataFrame(training_data)\n",
    "training_df = training_df.sample(frac=1)\n",
    "training_df.head(10)\n",
    "training_df.to_csv(\"training_data.csv\", index=False)\n"
   ]
  },
  {
   "cell_type": "markdown",
   "metadata": {},
   "source": [
    "Test data"
   ]
  },
  {
   "cell_type": "markdown",
   "metadata": {},
   "source": [
    "Converting all the Positive Test Data to csv file"
   ]
  },
  {
   "cell_type": "code",
   "execution_count": 11,
   "metadata": {},
   "outputs": [],
   "source": [
    "\n",
    "path = r'datasets\\test_pos.csv'\n",
    "dir_list_pos_test = os.listdir(path)\n",
    "pos_arr_test = []\n",
    "\n",
    "txt_tocsv(path, pos_arr_test, dir_list_pos_test)\n"
   ]
  },
  {
   "cell_type": "code",
   "execution_count": 12,
   "metadata": {},
   "outputs": [
    {
     "name": "stdout",
     "output_type": "stream",
     "text": [
      "                                              review  rating\n",
      "0  I went and saw this movie last night after bei...       1\n",
      "1  Actor turned director Bill Paxton follows up h...       1\n",
      "2  As a recreational golfer with some knowledge o...       1\n",
      "3  I saw this film in a sneak preview, and it is ...       1\n",
      "4  Bill Paxton has taken the true story of the 19...       1\n"
     ]
    }
   ],
   "source": [
    "pos_dic_test = {}\n",
    "pos_df_test = pd.DataFrame()\n",
    "pos_df_test = arr_todf(pos_dic_test, pos_arr_test, pos_df_test, 1)\n"
   ]
  },
  {
   "cell_type": "code",
   "execution_count": 13,
   "metadata": {},
   "outputs": [],
   "source": [
    "pos_df_test.to_csv(\"test_pos.csv\", index=False)\n"
   ]
  },
  {
   "cell_type": "markdown",
   "metadata": {},
   "source": [
    "Converting all the negative test data to csv file"
   ]
  },
  {
   "cell_type": "code",
   "execution_count": 14,
   "metadata": {},
   "outputs": [],
   "source": [
    "path = r\"datasets\\test_neg.csv\"\n",
    "dir_list_neg_test = os.listdir(path)\n",
    "neg_arr_test = []\n",
    "\n",
    "txt_tocsv(path, neg_arr_test, dir_list_neg_test)\n"
   ]
  },
  {
   "cell_type": "code",
   "execution_count": 15,
   "metadata": {},
   "outputs": [
    {
     "name": "stdout",
     "output_type": "stream",
     "text": [
      "                                              review  rating\n",
      "0  Once again Mr. Costner has dragged out a movie...       0\n",
      "1  This is an example of why the majority of acti...       0\n",
      "2  First of all I hate those moronic rappers, who...       0\n",
      "3  Not even the Beatles could write songs everyon...       0\n",
      "4  Brass pictures (movies is not a fitting word f...       0\n"
     ]
    }
   ],
   "source": [
    "neg_dic_test = {}\n",
    "neg_df_test = pd.DataFrame()\n",
    "neg_df_test = arr_todf(neg_dic_test, neg_arr_test, neg_df_test, 0)\n"
   ]
  },
  {
   "cell_type": "code",
   "execution_count": 16,
   "metadata": {},
   "outputs": [],
   "source": [
    "neg_df_test.to_csv(\"test_neg.csv\", index=False)\n"
   ]
  },
  {
   "cell_type": "code",
   "execution_count": 17,
   "metadata": {},
   "outputs": [],
   "source": [
    "pos_rev_test = pd.read_csv(\"test_pos.csv\")\n",
    "neg_rev_test = pd.read_csv(\"test_neg.csv\")\n",
    "\n",
    "test_data = pd.concat([pos_rev_test, neg_rev_test])\n",
    "testing_df = pd.DataFrame(test_data)\n",
    "testing_df = testing_df.sample(frac=1)\n",
    "testing_df.head(10)\n",
    "testing_df.to_csv(\"testing_data.csv\", index=False)\n"
   ]
  },
  {
   "cell_type": "markdown",
   "metadata": {},
   "source": [
    "Merging both the training and testing dataset to get the full dataset"
   ]
  },
  {
   "cell_type": "code",
   "execution_count": 18,
   "metadata": {},
   "outputs": [],
   "source": [
    "train_csv = pd.read_csv(\"training_data.csv\")\n",
    "test_csv = pd.read_csv(\"testing_data.csv\")\n",
    "\n",
    "dataset = pd.concat([train_csv, test_csv])\n",
    "dataset_df = pd.DataFrame(dataset)\n",
    "dataset_df = dataset_df.sample(frac=1)\n",
    "dataset_df.head()\n",
    "dataset_df.to_csv(\"imdb_dataset.csv\", index=False)\n"
   ]
  },
  {
   "cell_type": "code",
   "execution_count": 19,
   "metadata": {},
   "outputs": [],
   "source": [
    "import seaborn as sns\n",
    "import nltk\n",
    "from sklearn.feature_extraction.text import CountVectorizer\n",
    "from sklearn.feature_extraction.text import TfidfVectorizer\n",
    "from sklearn.preprocessing import LabelBinarizer\n",
    "from nltk.corpus import stopwords\n",
    "from nltk.stem.porter import PorterStemmer\n",
    "from wordcloud import WordCloud, STOPWORDS\n",
    "from nltk.stem import WordNetLemmatizer\n",
    "from nltk.tokenize import word_tokenize, sent_tokenize\n",
    "from bs4 import BeautifulSoup\n",
    "import spacy\n",
    "import re\n",
    "import string\n",
    "import unicodedata\n",
    "from nltk.tokenize.toktok import ToktokTokenizer\n",
    "from nltk.stem import LancasterStemmer, WordNetLemmatizer\n",
    "from sklearn.linear_model import LogisticRegression, SGDClassifier\n",
    "from sklearn.naive_bayes import MultinomialNB\n",
    "from sklearn.svm import SVC\n",
    "from textblob import TextBlob\n",
    "from textblob import Word\n",
    "from sklearn.metrics import classification_report, confusion_matrix, accuracy_score\n",
    "import warnings\n"
   ]
  },
  {
   "cell_type": "markdown",
   "metadata": {},
   "source": [
    "This part deals with data cleaning and model training "
   ]
  },
  {
   "cell_type": "code",
   "execution_count": 20,
   "metadata": {},
   "outputs": [
    {
     "data": {
      "text/plain": [
       "(50000, 2)"
      ]
     },
     "execution_count": 20,
     "metadata": {},
     "output_type": "execute_result"
    }
   ],
   "source": [
    "# importing the csv file to a dataframe\n",
    "df_imdb_train = pd.read_csv('imdb_dataset.csv')\n",
    "df_imdb_train = df_imdb_train.sample(frac=1)\n",
    "# df_imdb_train.head(20)\n",
    "df_imdb_train.shape\n"
   ]
  },
  {
   "cell_type": "code",
   "execution_count": 21,
   "metadata": {},
   "outputs": [
    {
     "data": {
      "text/html": [
       "<div>\n",
       "<style scoped>\n",
       "    .dataframe tbody tr th:only-of-type {\n",
       "        vertical-align: middle;\n",
       "    }\n",
       "\n",
       "    .dataframe tbody tr th {\n",
       "        vertical-align: top;\n",
       "    }\n",
       "\n",
       "    .dataframe thead th {\n",
       "        text-align: right;\n",
       "    }\n",
       "</style>\n",
       "<table border=\"1\" class=\"dataframe\">\n",
       "  <thead>\n",
       "    <tr style=\"text-align: right;\">\n",
       "      <th></th>\n",
       "      <th>rating</th>\n",
       "    </tr>\n",
       "  </thead>\n",
       "  <tbody>\n",
       "    <tr>\n",
       "      <th>count</th>\n",
       "      <td>50000.000000</td>\n",
       "    </tr>\n",
       "    <tr>\n",
       "      <th>mean</th>\n",
       "      <td>0.500000</td>\n",
       "    </tr>\n",
       "    <tr>\n",
       "      <th>std</th>\n",
       "      <td>0.500005</td>\n",
       "    </tr>\n",
       "    <tr>\n",
       "      <th>min</th>\n",
       "      <td>0.000000</td>\n",
       "    </tr>\n",
       "    <tr>\n",
       "      <th>25%</th>\n",
       "      <td>0.000000</td>\n",
       "    </tr>\n",
       "    <tr>\n",
       "      <th>50%</th>\n",
       "      <td>0.500000</td>\n",
       "    </tr>\n",
       "    <tr>\n",
       "      <th>75%</th>\n",
       "      <td>1.000000</td>\n",
       "    </tr>\n",
       "    <tr>\n",
       "      <th>max</th>\n",
       "      <td>1.000000</td>\n",
       "    </tr>\n",
       "  </tbody>\n",
       "</table>\n",
       "</div>"
      ],
      "text/plain": [
       "             rating\n",
       "count  50000.000000\n",
       "mean       0.500000\n",
       "std        0.500005\n",
       "min        0.000000\n",
       "25%        0.000000\n",
       "50%        0.500000\n",
       "75%        1.000000\n",
       "max        1.000000"
      ]
     },
     "execution_count": 21,
     "metadata": {},
     "output_type": "execute_result"
    }
   ],
   "source": [
    "df_imdb_train.describe()\n"
   ]
  },
  {
   "cell_type": "code",
   "execution_count": 22,
   "metadata": {},
   "outputs": [
    {
     "data": {
      "text/plain": [
       "1    25000\n",
       "0    25000\n",
       "Name: rating, dtype: int64"
      ]
     },
     "execution_count": 22,
     "metadata": {},
     "output_type": "execute_result"
    }
   ],
   "source": [
    "df_imdb_train['rating'].value_counts()\n"
   ]
  },
  {
   "cell_type": "code",
   "execution_count": 23,
   "metadata": {},
   "outputs": [],
   "source": [
    "# tokenization\n",
    "tokenizer = ToktokTokenizer()\n",
    "stopword_list = nltk.corpus.stopwords.words('english')\n"
   ]
  },
  {
   "cell_type": "markdown",
   "metadata": {},
   "source": [
    "Data cleaning "
   ]
  },
  {
   "cell_type": "code",
   "execution_count": 24,
   "metadata": {},
   "outputs": [],
   "source": [
    "# removing the html strips\n",
    "def html_rem(text):\n",
    "    soup = BeautifulSoup(text, \"html.parser\")\n",
    "    return soup.get_text()\n",
    "\n",
    "# removing the brackets\n",
    "\n",
    "\n",
    "def brac_rem(text):\n",
    "    return re.sub('\\[[^]]*\\]', '', text)\n",
    "\n",
    "\n",
    "def denoise_txt(text):\n",
    "    '''removing the noisy text'''\n",
    "    text = html_rem(text)\n",
    "    text = brac_rem(text)\n",
    "    return text\n",
    "\n",
    "\n",
    "df_imdb_train['review'] = df_imdb_train['review'].apply(denoise_txt)\n"
   ]
  },
  {
   "cell_type": "code",
   "execution_count": 25,
   "metadata": {},
   "outputs": [],
   "source": [
    "def rem_spe_char(text, rem_dig=True):\n",
    "    '''removing the special character'''\n",
    "    pattern = r'[^a-zA-Z0-9\\s]'\n",
    "    text = re.sub(pattern, '', text)\n",
    "    return text\n",
    "\n",
    "\n",
    "df_imdb_train['review'] = df_imdb_train['review'].apply(rem_spe_char)\n"
   ]
  },
  {
   "cell_type": "code",
   "execution_count": 26,
   "metadata": {},
   "outputs": [],
   "source": [
    "def simple_stemmer(text):\n",
    "    '''eliminates the affixes from words in order to retrieve the base form'''\n",
    "    ps = nltk.porter.PorterStemmer()\n",
    "    text = ' '.join([ps.stem(word) for word in text.split()])\n",
    "    return text\n",
    "\n",
    "\n",
    "df_imdb_train['review'] = df_imdb_train['review'].apply(simple_stemmer)\n"
   ]
  },
  {
   "cell_type": "code",
   "execution_count": 27,
   "metadata": {},
   "outputs": [
    {
     "name": "stdout",
     "output_type": "stream",
     "text": [
      "{'ain', 'than', 'then', 'him', 'its', 'by', 'm', 'only', 'have', 'ourselves', 'needn', 'herself', 'up', 'are', 'being', 'was', 'when', 'this', 'below', \"hadn't\", 'nor', 'yourselves', 'and', \"you'll\", 'had', \"hasn't\", \"needn't\", 'above', 'itself', 't', 'they', 'their', 'mustn', 'more', \"isn't\", 'it', 'mightn', 'don', 'having', 'just', 'o', \"wouldn't\", 'some', 'if', 'or', 'didn', \"weren't\", 'yours', 'same', 'down', 'after', 'such', 'shan', 'doing', 'd', 'won', 'y', 'with', 'between', 'hers', 'who', 'each', \"mightn't\", 'she', \"that'll\", 'ours', 'any', 'haven', 'in', 'very', \"couldn't\", 'what', 'during', 'do', 'how', 'them', 'myself', 'all', \"she's\", 'against', 'once', 'her', 'so', 'yourself', 're', \"won't\", 'himself', 'other', 'my', 'while', 'he', \"should've\", 'now', 'which', \"didn't\", 'doesn', 'been', 'ma', 'shouldn', \"you're\", 'at', 'should', 'that', 'on', 'couldn', \"wasn't\", \"shouldn't\", 'a', 'where', 'isn', 'you', 'did', 'aren', 'before', 'further', 'our', \"haven't\", 'will', 'i', 'own', \"shan't\", 'few', 'has', 's', 'out', 'through', \"don't\", \"doesn't\", 'be', 'were', 'why', \"aren't\", 'into', 'hadn', 'these', 'can', 'until', \"mustn't\", 'to', 'is', 'an', 'off', 'under', 'as', 'am', 'from', 'most', 'does', 'but', 'over', 'because', 'both', \"it's\", 'weren', 'we', 'there', 'whom', 'me', 'll', 've', 'for', 'his', 'too', 'your', 'here', 'of', 'not', 'themselves', 'again', 'theirs', 'hasn', \"you've\", 'those', \"you'd\", 'the', 'about', 'no', 'wasn', 'wouldn'}\n"
     ]
    }
   ],
   "source": [
    "stop_words = set(stopwords.words('english'))\n",
    "print(stop_words)\n",
    "\n",
    "\n",
    "def rem_stop_words(text, is_lower_case=False):\n",
    "    '''removes all the words that have little or no meaning'''\n",
    "    tokens = tokenizer.tokenize(text)\n",
    "    tokens = [token.strip()for token in tokens]\n",
    "    if is_lower_case:\n",
    "        filter_tokens = [\n",
    "            token for token in tokens if token not in stopword_list]\n",
    "    else:\n",
    "        filter_tokens = [\n",
    "            token for token in tokens if token.lower() not in stopword_list]\n",
    "\n",
    "    filtered_text = ' '.join(filter_tokens)\n",
    "    return filtered_text\n",
    "\n",
    "\n",
    "df_imdb_train['review'] = df_imdb_train['review'].apply(rem_stop_words)\n"
   ]
  },
  {
   "cell_type": "code",
   "execution_count": 28,
   "metadata": {},
   "outputs": [
    {
     "data": {
      "text/plain": [
       "'animatrix detect stori veri well plan ha great storylin go carrieann moss play triniti thi anim cartoon realli like privat detect idea creat director'"
      ]
     },
     "execution_count": 28,
     "metadata": {},
     "output_type": "execute_result"
    }
   ],
   "source": [
    "norm_train_rev = df_imdb_train.review[:40000]\n",
    "norm_train_rev[0]\n"
   ]
  },
  {
   "cell_type": "code",
   "execution_count": 29,
   "metadata": {},
   "outputs": [],
   "source": [
    "norm_test_rev = df_imdb_train.review[40000:]\n",
    "# norm_test_rev.count()\n"
   ]
  },
  {
   "cell_type": "markdown",
   "metadata": {},
   "source": [
    "Bag of word model"
   ]
  },
  {
   "cell_type": "code",
   "execution_count": 30,
   "metadata": {},
   "outputs": [
    {
     "name": "stdout",
     "output_type": "stream",
     "text": [
      "Bag of words for training dataset: (40000, 6212460)\n",
      "Bag of words of test dataset: (10000, 6212460)\n"
     ]
    }
   ],
   "source": [
    "cv = CountVectorizer(min_df=0, max_df=1, binary=False, ngram_range=(1, 3))\n",
    "cv_train_rev = cv.fit_transform(norm_train_rev)\n",
    "cv_test_rev = cv.transform(norm_test_rev)\n",
    "\n",
    "print(\"Bag of words for training dataset:\", cv_train_rev.shape)\n",
    "print(\"Bag of words of test dataset:\", cv_test_rev.shape)\n"
   ]
  },
  {
   "cell_type": "markdown",
   "metadata": {},
   "source": [
    "TFIDF model"
   ]
  },
  {
   "cell_type": "code",
   "execution_count": 31,
   "metadata": {},
   "outputs": [
    {
     "name": "stdout",
     "output_type": "stream",
     "text": [
      "TFIDF of training dataset: (40000, 6212460)\n",
      "TFIDF test data: (10000, 6212460)\n"
     ]
    }
   ],
   "source": [
    "tf = TfidfVectorizer(min_df=0, max_df=1, use_idf=True, ngram_range=(1, 3))\n",
    "tf_train_rev = tf.fit_transform(norm_train_rev)\n",
    "tf_test_rev = tf.transform(norm_test_rev)\n",
    "\n",
    "print(\"TFIDF of training dataset:\", tf_train_rev.shape)\n",
    "print(\"TFIDF test data:\", tf_test_rev.shape)\n"
   ]
  },
  {
   "cell_type": "code",
   "execution_count": 32,
   "metadata": {},
   "outputs": [
    {
     "name": "stdout",
     "output_type": "stream",
     "text": [
      "[[1]\n",
      " [0]\n",
      " [1]\n",
      " ...\n",
      " [1]\n",
      " [1]\n",
      " [1]]\n",
      "[[0]\n",
      " [0]\n",
      " [1]\n",
      " ...\n",
      " [1]\n",
      " [1]\n",
      " [0]]\n"
     ]
    }
   ],
   "source": [
    "lb = LabelBinarizer()\n",
    "\n",
    "rating_data = lb.fit_transform(df_imdb_train['rating'])\n",
    "\n",
    "train_rating = rating_data[:40000]\n",
    "test_rating = rating_data[40000:]\n",
    "print(train_rating)\n",
    "print(test_rating)\n"
   ]
  },
  {
   "cell_type": "markdown",
   "metadata": {},
   "source": [
    "Modelling the data(multinomial naive bayes)"
   ]
  },
  {
   "cell_type": "code",
   "execution_count": 33,
   "metadata": {},
   "outputs": [
    {
     "name": "stdout",
     "output_type": "stream",
     "text": [
      "MultinomialNB()\n",
      "MultinomialNB()\n"
     ]
    }
   ],
   "source": [
    "mnb = MultinomialNB()\n",
    "# bag of words\n",
    "mnb_bow = mnb.fit(cv_train_rev, np.ravel(train_rating))\n",
    "print(mnb_bow)\n",
    "# tfidf\n",
    "mnb_tfidf = mnb.fit(tf_train_rev, np.ravel(train_rating))\n",
    "print(mnb_tfidf)\n"
   ]
  },
  {
   "cell_type": "code",
   "execution_count": 34,
   "metadata": {},
   "outputs": [
    {
     "name": "stdout",
     "output_type": "stream",
     "text": [
      "[0 1 0 ... 1 1 0]\n",
      "[0 1 0 ... 1 1 0]\n"
     ]
    }
   ],
   "source": [
    "mb_bow_predict = mnb.predict(cv_test_rev)\n",
    "print(mb_bow_predict)\n",
    "\n",
    "mb_tfidf_predict = mnb.predict(tf_test_rev)\n",
    "print(mb_tfidf_predict)\n"
   ]
  },
  {
   "cell_type": "code",
   "execution_count": 35,
   "metadata": {},
   "outputs": [
    {
     "name": "stdout",
     "output_type": "stream",
     "text": [
      "0.7498\n",
      "0.751\n"
     ]
    }
   ],
   "source": [
    "mb_bow_acc = accuracy_score(test_rating, mb_bow_predict)\n",
    "print(mb_bow_acc)\n",
    "\n",
    "mb_tfidf_acc = accuracy_score(test_rating, mb_tfidf_predict)\n",
    "print(mb_tfidf_acc)\n"
   ]
  },
  {
   "cell_type": "code",
   "execution_count": 36,
   "metadata": {},
   "outputs": [
    {
     "name": "stdout",
     "output_type": "stream",
     "text": [
      "              precision    recall  f1-score   support\n",
      "\n",
      "    Positive       0.75      0.75      0.75      5016\n",
      "    Negative       0.75      0.75      0.75      4984\n",
      "\n",
      "    accuracy                           0.75     10000\n",
      "   macro avg       0.75      0.75      0.75     10000\n",
      "weighted avg       0.75      0.75      0.75     10000\n",
      "\n",
      "              precision    recall  f1-score   support\n",
      "\n",
      "    Positive       0.76      0.74      0.75      5016\n",
      "    Negative       0.75      0.76      0.75      4984\n",
      "\n",
      "    accuracy                           0.75     10000\n",
      "   macro avg       0.75      0.75      0.75     10000\n",
      "weighted avg       0.75      0.75      0.75     10000\n",
      "\n"
     ]
    }
   ],
   "source": [
    "mb_bow_report = classification_report(\n",
    "    test_rating, mb_bow_predict, target_names=['Positive', 'Negative'])\n",
    "print(mb_bow_report)\n",
    "\n",
    "mb_tfidf_report = classification_report(\n",
    "    test_rating, mb_tfidf_predict, target_names=['Positive', 'Negative'])\n",
    "print(mb_tfidf_report)\n"
   ]
  },
  {
   "cell_type": "code",
   "execution_count": 37,
   "metadata": {},
   "outputs": [
    {
     "name": "stdout",
     "output_type": "stream",
     "text": [
      "[[3744 1240]\n",
      " [1262 3754]]\n"
     ]
    }
   ],
   "source": [
    "cm_bow = confusion_matrix(test_rating, mb_bow_predict, labels=[1, 0])\n",
    "print(cm_bow)\n"
   ]
  },
  {
   "cell_type": "code",
   "execution_count": 38,
   "metadata": {},
   "outputs": [
    {
     "data": {
      "text/plain": [
       "<AxesSubplot:>"
      ]
     },
     "execution_count": 38,
     "metadata": {},
     "output_type": "execute_result"
    },
    {
     "data": {
      "image/png": "[encoded data removed]",
      "text/plain": [
       "<Figure size 432x288 with 2 Axes>"
      ]
     },
     "metadata": {
      "needs_background": "light"
     },
     "output_type": "display_data"
    }
   ],
   "source": [
    "cm = pd.DataFrame(cm_bow)\n",
    "sns.heatmap(cm, annot=True, fmt=\"d\")\n"
   ]
  },
  {
   "cell_type": "code",
   "execution_count": 39,
   "metadata": {},
   "outputs": [
    {
     "name": "stdout",
     "output_type": "stream",
     "text": [
      "[[3775 1209]\n",
      " [1281 3735]]\n"
     ]
    }
   ],
   "source": [
    "cm_tfidf = confusion_matrix(test_rating, mb_tfidf_predict, labels=[1, 0])\n",
    "print(cm_tfidf)\n"
   ]
  },
  {
   "cell_type": "code",
   "execution_count": 42,
   "metadata": {},
   "outputs": [
    {
     "data": {
      "text/plain": [
       "<AxesSubplot:>"
      ]
     },
     "execution_count": 42,
     "metadata": {},
     "output_type": "execute_result"
    },
    {
     "data": {
      "image/png": "[encoded data removed]",
      "text/plain": [
       "<Figure size 432x288 with 2 Axes>"
      ]
     },
     "metadata": {
      "needs_background": "light"
     },
     "output_type": "display_data"
    }
   ],
   "source": [
    "cm_t=pd.DataFrame(cm_tfidf)\n",
    "sns.heatmap(cm_t,annot=True,fmt=\"d\")"
   ]
  },
  {
   "cell_type": "code",
   "execution_count": 40,
   "metadata": {},
   "outputs": [
    {
     "name": "stdout",
     "output_type": "stream",
     "text": [
      "The sentiment is negative\n"
     ]
    }
   ],
   "source": [
    "predict = mnb.predict(cv.transform([\"When you make a film with a killer-kids premise, there are two effective ways to approach it; you can either make it as realistic as possible, creating believable characters and situations, or you can make it as fun as possible by playing it for laughs (something which the makers of Silent Night, Deadly Night did, for example, on an equally controversial subject: a killer Santa). The people who made Bloody Birthday, however, do neither of those things; they simply rely on the shock value of the image of a kid with a gun (or a knife, or a noose, or an arrow) in his/her hand. The result is both offensive and stupid. The whole film looks like a bad idea that was rushed through production (and then kept from release for several years). It's redeemed a tiny bit by good performances from the kids, but it's VERY sloppily made. (*1/2)\"]))\n",
    "if predict == 1:\n",
    "    print(\"The sentiment is positive\")\n",
    "else:\n",
    "    print(\"The sentiment is negative\")\n"
   ]
  },
  {
   "cell_type": "code",
   "execution_count": 41,
   "metadata": {},
   "outputs": [
    {
     "name": "stdout",
     "output_type": "stream",
     "text": [
      "The sentiment is positive\n"
     ]
    }
   ],
   "source": [
    "predict = mnb.predict(cv.transform([\"I went and saw this movie last night after being coaxed to by a few friends of mine. I'll admit that I was reluctant to see it because from what I knew of Ashton Kutcher he was only able to do comedy. I was wrong. Kutcher played the character of Jake Fischer very well, and Kevin Costner played Ben Randall with such professionalism. The sign of a good movie is that it can toy with our emotions. This one did exactly that. The entire theater(which was sold out) was overcome by laughter during the first half of the movie, and were moved to tears during the second half. While exiting the theater I not only saw many women in tears, but many full grown men as well, trying desperately not to let anyone see them crying. This movie was great, and I suggest that you go see it before you judge.\"]))\n",
    "if predict == 1:\n",
    "    print(\"The sentiment is positive\")\n",
    "else:\n",
    "    print(\"The sentiment is negative\")\n"
   ]
  }
 ],
 "metadata": {
  "interpreter": {
   "hash": "036b032ae1fe5661478d6626cf2edacde1c6a34d3f872baf80d7ee04843ea541"
  },
  "kernelspec": {
   "display_name": "Python 3.9.8 64-bit (windows store)",
   "language": "python",
   "name": "python3"
  },
  "language_info": {
   "codemirror_mode": {
    "name": "ipython",
    "version": 3
   },
   "file_extension": ".py",
   "mimetype": "text/x-python",
   "name": "python",
   "nbconvert_exporter": "python",
   "pygments_lexer": "ipython3",
   "version": "3.8.10"
  },
  "orig_nbformat": 4
 },
 "nbformat": 4,
 "nbformat_minor": 2
}
